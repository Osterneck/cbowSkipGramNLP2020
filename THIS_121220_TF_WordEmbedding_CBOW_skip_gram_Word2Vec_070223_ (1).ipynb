{
  "cells": [
    {
      "cell_type": "code",
      "execution_count": null,
      "id": "bc6debae",
      "metadata": {
        "id": "bc6debae"
      },
      "outputs": [],
      "source": [
        "## and ou may ask yourself, \"Well, how did I get here?\"...\n",
        "\n",
        "## TF WordEmbedding CBOW skip-gram Word2Vec 121220 and 070223\n",
        "# word embedding, = vector-spaces where semantic-relationships between words modeled as distance between vectors or words\n",
        "# CBOW, (Word2Vec probability-model #1) (minimize avg neg log-likelihood)(use context to predict current word)\n",
        "# Skip-gram, (Word2Vec probability-model #2) (avg,neg,log) (use current word to predict neighbors (it's context))\n",
        "# Word2vec (avg: gives mean error, neg: optimizer decreases error, log: products transformed to summation)\n",
        "# Use tensorflow_hub and embed 2-3 words. Look at the resulting vectors.\n"
      ]
    },
    {
      "cell_type": "code",
      "execution_count": null,
      "id": "8d934ea6",
      "metadata": {
        "id": "8d934ea6"
      },
      "outputs": [],
      "source": [
        "# CBOW and Skip-gram are mirror-images.\n",
        "# CBOW =  predict single word from fixed window size\n",
        "# Skip-gram = predicts several context words from single input. Input = center word. Predictions = context words.\n",
        "# Architecture: i)randomly-initialize word-embedding for word, ii)projection matrix NxD (num context-words X embedding-dim)\n",
        "# ..generated each iteration, no hidden-layer, iii) vectors averaged together then fed into activation-function to pred\n",
        "# ..index-probs in vector of dim V (size of vocab)\n"
      ]
    },
    {
      "cell_type": "code",
      "execution_count": null,
      "id": "e08e3eea",
      "metadata": {
        "id": "e08e3eea"
      },
      "outputs": [],
      "source": [
        "# 2-types of NLP: i) bag-of-words[Dense] (process sets or N-grams without order,) ii) sequence[Transformer] (with order)\n",
        "# ** ratio between num-samples in train-data & mean num-of-words per sample determines whether to use i) or ii)\n",
        "# ** num_samples / mean_sample_length: if >1500 use Bag-of-bigrams, if <1500 use Sequence model\n",
        "# ** example: 1000-word docs / 100,000 docs = ratio is 100, go with Bag-of-bigrams\n",
        "# i) statistical language model to analyze text used for nlp based on word counts\n",
        "# ii) sequence-to-sequence = encoder processes source sequence, decoder predicts future tokens in target sequence of past\n",
        "# neural-attention: creates context-aware word-reps = Transormer-architecture\n",
        "# Transormer = TransformerEndcoder & TransformerDecoder\n"
      ]
    },
    {
      "cell_type": "code",
      "execution_count": null,
      "id": "bd306bc4",
      "metadata": {
        "id": "bd306bc4"
      },
      "outputs": [],
      "source": [
        "## START CBOW\n",
        "\n",
        "# CBOW = continuous-bag-of-words which is a part of Word2Vec\n",
        "# cbow model-architecture predicts current target-word based on source context-words\n",
        "# we decide the vector-dims / embedding-dims, ex. embedding-dim = 2, then 'hello' = [0.213, 0.4543]\n",
        "# cbow has input (1-hot), hidden (w + b), and output layers, then we pred via softmax\n",
        "# workflow: prep data, create train-data, create cbow-model, train cbow-model, eval cbow-model\n"
      ]
    },
    {
      "cell_type": "code",
      "execution_count": null,
      "id": "3eed3549",
      "metadata": {
        "id": "3eed3549",
        "outputId": "ab987937-62d1-4b17-87a3-ed5001af62a1"
      },
      "outputs": [
        {
          "data": {
            "text/plain": [
              "[('dog', 0.9590820074081421),\n",
              " ('monkey', 0.9203579425811768),\n",
              " ('bear', 0.9143137335777283),\n",
              " ('pet', 0.9108031392097473),\n",
              " ('girl', 0.8880630731582642),\n",
              " ('horse', 0.8872725963592529),\n",
              " ('kitty', 0.8870542049407959),\n",
              " ('puppy', 0.8867696523666382),\n",
              " ('hot', 0.886525571346283),\n",
              " ('lady', 0.8845519423484802)]"
            ]
          },
          "execution_count": 18,
          "metadata": {},
          "output_type": "execute_result"
        }
      ],
      "source": [
        "import gensim.downloader as api\n",
        "\n",
        "info = api.info()  # show info about available models/datasets\n",
        "model = api.load(\"glove-twitter-25\")  # download the model and return as object ready for use\n",
        "model.most_similar(\"cat\")\n"
      ]
    },
    {
      "cell_type": "code",
      "execution_count": null,
      "id": "12fd4e74",
      "metadata": {
        "id": "12fd4e74"
      },
      "outputs": [],
      "source": [
        "from gensim.test.utils import common_texts\n",
        "from gensim.models import Word2Vec\n",
        "\n",
        "model=Word2Vec(sentences=common_texts, vector_size=100, window=5, min_count=1, workers=4)\n",
        "model.save('word2vec.model')\n"
      ]
    },
    {
      "cell_type": "code",
      "execution_count": null,
      "id": "f02db961",
      "metadata": {
        "id": "f02db961",
        "outputId": "91858f90-e7a0-4d73-854b-f07797fdceaf"
      },
      "outputs": [
        {
          "data": {
            "text/plain": [
              "(0, 2)"
            ]
          },
          "execution_count": 20,
          "metadata": {},
          "output_type": "execute_result"
        }
      ],
      "source": [
        "model = Word2Vec.load('word2vec.model')\n",
        "model.train([['hello', 'world']], total_examples=1, epochs=1)\n"
      ]
    },
    {
      "cell_type": "code",
      "execution_count": null,
      "id": "63b1ee03",
      "metadata": {
        "id": "63b1ee03"
      },
      "outputs": [],
      "source": [
        "vector=model.wv['computer']\n",
        "sims=model.wv.most_similar('computer', topn=10)\n"
      ]
    },
    {
      "cell_type": "code",
      "execution_count": null,
      "id": "29f1ef3d",
      "metadata": {
        "id": "29f1ef3d"
      },
      "outputs": [],
      "source": [
        "from gensim.models import KeyedVectors\n",
        "word_vectors = model.wv\n",
        "word_vectors.save('word2vec.wordvectors')\n",
        "\n",
        "wv=KeyedVectors.load('word2vec.wordvectors', mmap='r')\n"
      ]
    },
    {
      "cell_type": "code",
      "execution_count": null,
      "id": "bb456b09",
      "metadata": {
        "id": "bb456b09"
      },
      "outputs": [],
      "source": [
        "from gensim.test.utils import datapath\n",
        "wv_from_text = KeyedVectors.load_word2vec_format(datapath('word2vec_pre_kv_c'), binary=False)\n",
        "wv_from_bin = KeyedVectors.load_word2vec_format(datapath('euclidean_vectors.bin'), binary=True)\n"
      ]
    },
    {
      "cell_type": "code",
      "execution_count": null,
      "id": "1c8f0296",
      "metadata": {
        "id": "1c8f0296"
      },
      "outputs": [],
      "source": [
        "# end CBOW\n"
      ]
    },
    {
      "cell_type": "code",
      "execution_count": null,
      "id": "452e4392",
      "metadata": {
        "id": "452e4392"
      },
      "outputs": [],
      "source": [
        "# Start Skip-Gram\n"
      ]
    },
    {
      "cell_type": "code",
      "execution_count": null,
      "id": "27700baa",
      "metadata": {
        "id": "27700baa"
      },
      "outputs": [],
      "source": [
        "import numpy as np\n",
        "import pandas as pd\n",
        "from nltk.tokenize.regexp import RegexpTokenizer\n",
        "from nltk.corpus import stopwords\n",
        "from gensim.models import Word2Vec, KeyedVectors\n",
        "from scipy.spatial.distance import cosine\n"
      ]
    },
    {
      "cell_type": "code",
      "execution_count": null,
      "id": "5a3c1b6d",
      "metadata": {
        "id": "5a3c1b6d"
      },
      "outputs": [],
      "source": [
        "import tensorflow as tf\n",
        "from tensorflow.keras import Sequential\n",
        "from tensorflow.keras.layers import Input, Dense\n",
        "import matplotlib.pyplot as plt\n",
        "import seaborn as sns\n",
        "sns.set(style='darkgrid', context='talk')\n"
      ]
    },
    {
      "cell_type": "code",
      "execution_count": null,
      "id": "52447eb1",
      "metadata": {
        "id": "52447eb1"
      },
      "outputs": [],
      "source": [
        "# intentional ambiguity to try and confuse the model\n",
        "\n",
        "text = ['Run jump run jump up and down outside.',\n",
        "        'Old MacDonald had a jumper.',\n",
        "        'The car is parked in the garage.',\n",
        "        'The garage was built to house the cars.'\n",
        "        'The house is attached to the garage which is good since its close by.',\n",
        "        'The attached garage is good because its a short walk to the house.',\n",
        "        'A short walk is enjoyable after dinner on the patio',\n",
        "        'A patio is an enjoyable place for dinner.',\n",
        "        'Dinner is after lunch.',\n",
        "        'Lunch is before.',\n",
        "        'Before lunch you can sit on the patio.',\n",
        "        'The lion wanted breakfast and wandered near the patio.',\n",
        "        'The wandering meanandering cheetah was near the lion.',\n",
        "        'Old MacDonald ate a bag of cheetohs.',\n",
        "        'Cheetohs are orange.',\n",
        "        'Eating an orange on the patio while looking at the lion is fun said Old MacDonald.']\n"
      ]
    },
    {
      "cell_type": "code",
      "execution_count": null,
      "id": "50c14fda",
      "metadata": {
        "id": "50c14fda",
        "outputId": "d3891bef-5710-4b03-85a7-79773a62f495"
      },
      "outputs": [
        {
          "data": {
            "text/plain": [
              "[['run', 'jump', 'run', 'jump', 'outside'],\n",
              " ['old', 'macdonald', 'jumper'],\n",
              " ['car', 'parked', 'garage'],\n",
              " ['garage',\n",
              "  'built',\n",
              "  'house',\n",
              "  'cars',\n",
              "  'house',\n",
              "  'attached',\n",
              "  'garage',\n",
              "  'good',\n",
              "  'since',\n",
              "  'close'],\n",
              " ['attached', 'garage', 'good', 'short', 'walk', 'house'],\n",
              " ['short', 'walk', 'enjoyable', 'dinner', 'patio'],\n",
              " ['patio', 'enjoyable', 'place', 'dinner'],\n",
              " ['dinner', 'lunch'],\n",
              " ['lunch'],\n",
              " ['lunch', 'sit', 'patio'],\n",
              " ['lion', 'wanted', 'breakfast', 'wandered', 'near', 'patio'],\n",
              " ['wandering', 'meanandering', 'cheetah', 'near', 'lion'],\n",
              " ['old', 'macdonald', 'ate', 'bag', 'cheetohs'],\n",
              " ['cheetohs', 'orange'],\n",
              " ['eating',\n",
              "  'orange',\n",
              "  'patio',\n",
              "  'looking',\n",
              "  'lion',\n",
              "  'fun',\n",
              "  'said',\n",
              "  'old',\n",
              "  'macdonald']]"
            ]
          },
          "execution_count": 29,
          "metadata": {},
          "output_type": "execute_result"
        }
      ],
      "source": [
        "def preprocess_text(document):\n",
        "    tokenizer = RegexpTokenizer(r\"[A-Za-z]{2,}\")\n",
        "    tokens = tokenizer.tokenize(document.lower())\n",
        "    key_tokens = [token for token in tokens if token not in stopwords.words('english')]\n",
        "    return key_tokens\n",
        "\n",
        "corpus = []\n",
        "for document in text:\n",
        "    corpus.append(preprocess_text(document))\n",
        "corpus\n"
      ]
    },
    {
      "cell_type": "code",
      "execution_count": null,
      "id": "d576ad36",
      "metadata": {
        "id": "d576ad36",
        "outputId": "194a7394-52c2-459d-805a-b9904ef88a21"
      },
      "outputs": [
        {
          "data": {
            "text/plain": [
              "array([-0.02654754,  0.0114735 ], dtype=float32)"
            ]
          },
          "execution_count": 30,
          "metadata": {},
          "output_type": "execute_result"
        }
      ],
      "source": [
        "dimension = 2\n",
        "window = 2\n",
        "word2vec = Word2Vec(corpus, min_count=1, vector_size=dimension, window=window, sg=1)\n",
        "word2vec.wv.get_vector('patio')\n"
      ]
    },
    {
      "cell_type": "code",
      "execution_count": null,
      "id": "732690d1",
      "metadata": {
        "id": "732690d1",
        "outputId": "5369f4a7-a410-4166-cf5e-07b4aef7b984"
      },
      "outputs": [
        {
          "data": {
            "text/plain": [
              "[('looking', 0.9974758625030518),\n",
              " ('parked', 0.9954480528831482),\n",
              " ('cheetah', 0.9781259298324585)]"
            ]
          },
          "execution_count": 31,
          "metadata": {},
          "output_type": "execute_result"
        }
      ],
      "source": [
        "n=3\n",
        "word2vec.wv.most_similar(positive=['patio'], topn=n)\n"
      ]
    },
    {
      "cell_type": "code",
      "execution_count": null,
      "id": "329364a5",
      "metadata": {
        "id": "329364a5",
        "outputId": "dd858b3b-e958-4789-a34d-a346813833e9"
      },
      "outputs": [
        {
          "data": {
            "text/html": [
              "<div>\n",
              "<style scoped>\n",
              "    .dataframe tbody tr th:only-of-type {\n",
              "        vertical-align: middle;\n",
              "    }\n",
              "\n",
              "    .dataframe tbody tr th {\n",
              "        vertical-align: top;\n",
              "    }\n",
              "\n",
              "    .dataframe thead th {\n",
              "        text-align: right;\n",
              "    }\n",
              "</style>\n",
              "<table border=\"1\" class=\"dataframe\">\n",
              "  <thead>\n",
              "    <tr style=\"text-align: right;\">\n",
              "      <th></th>\n",
              "      <th>d0</th>\n",
              "      <th>d1</th>\n",
              "    </tr>\n",
              "  </thead>\n",
              "  <tbody>\n",
              "    <tr>\n",
              "      <th>patio</th>\n",
              "      <td>-0.026548</td>\n",
              "      <td>0.011474</td>\n",
              "    </tr>\n",
              "    <tr>\n",
              "      <th>garage</th>\n",
              "      <td>0.254888</td>\n",
              "      <td>0.450171</td>\n",
              "    </tr>\n",
              "    <tr>\n",
              "      <th>dinner</th>\n",
              "      <td>-0.465057</td>\n",
              "      <td>-0.355795</td>\n",
              "    </tr>\n",
              "    <tr>\n",
              "      <th>lion</th>\n",
              "      <td>0.322857</td>\n",
              "      <td>0.448189</td>\n",
              "    </tr>\n",
              "    <tr>\n",
              "      <th>old</th>\n",
              "      <td>-0.250914</td>\n",
              "      <td>-0.188650</td>\n",
              "    </tr>\n",
              "    <tr>\n",
              "      <th>macdonald</th>\n",
              "      <td>0.369047</td>\n",
              "      <td>-0.076846</td>\n",
              "    </tr>\n",
              "    <tr>\n",
              "      <th>house</th>\n",
              "      <td>-0.226831</td>\n",
              "      <td>0.327703</td>\n",
              "    </tr>\n",
              "    <tr>\n",
              "      <th>lunch</th>\n",
              "      <td>-0.243008</td>\n",
              "      <td>-0.090801</td>\n",
              "    </tr>\n",
              "    <tr>\n",
              "      <th>jump</th>\n",
              "      <td>0.143574</td>\n",
              "      <td>0.049691</td>\n",
              "    </tr>\n",
              "    <tr>\n",
              "      <th>attached</th>\n",
              "      <td>-0.414787</td>\n",
              "      <td>-0.472955</td>\n",
              "    </tr>\n",
              "    <tr>\n",
              "      <th>good</th>\n",
              "      <td>0.365431</td>\n",
              "      <td>0.253374</td>\n",
              "    </tr>\n",
              "    <tr>\n",
              "      <th>short</th>\n",
              "      <td>0.337832</td>\n",
              "      <td>0.038106</td>\n",
              "    </tr>\n",
              "    <tr>\n",
              "      <th>walk</th>\n",
              "      <td>0.317540</td>\n",
              "      <td>-0.170268</td>\n",
              "    </tr>\n",
              "    <tr>\n",
              "      <th>enjoyable</th>\n",
              "      <td>-0.047320</td>\n",
              "      <td>0.288435</td>\n",
              "    </tr>\n",
              "    <tr>\n",
              "      <th>run</th>\n",
              "      <td>-0.376557</td>\n",
              "      <td>-0.196983</td>\n",
              "    </tr>\n",
              "    <tr>\n",
              "      <th>orange</th>\n",
              "      <td>-0.375989</td>\n",
              "      <td>-0.046632</td>\n",
              "    </tr>\n",
              "    <tr>\n",
              "      <th>near</th>\n",
              "      <td>0.476782</td>\n",
              "      <td>-0.365992</td>\n",
              "    </tr>\n",
              "    <tr>\n",
              "      <th>cheetohs</th>\n",
              "      <td>-0.117025</td>\n",
              "      <td>-0.097685</td>\n",
              "    </tr>\n",
              "    <tr>\n",
              "      <th>wanted</th>\n",
              "      <td>0.404098</td>\n",
              "      <td>-0.296785</td>\n",
              "    </tr>\n",
              "    <tr>\n",
              "      <th>cars</th>\n",
              "      <td>0.002258</td>\n",
              "      <td>-0.237687</td>\n",
              "    </tr>\n",
              "    <tr>\n",
              "      <th>looking</th>\n",
              "      <td>-0.480857</td>\n",
              "      <td>0.249733</td>\n",
              "    </tr>\n",
              "    <tr>\n",
              "      <th>outside</th>\n",
              "      <td>-0.438022</td>\n",
              "      <td>-0.219585</td>\n",
              "    </tr>\n",
              "    <tr>\n",
              "      <th>eating</th>\n",
              "      <td>-0.001667</td>\n",
              "      <td>-0.015021</td>\n",
              "    </tr>\n",
              "    <tr>\n",
              "      <th>jumper</th>\n",
              "      <td>-0.383062</td>\n",
              "      <td>0.480737</td>\n",
              "    </tr>\n",
              "    <tr>\n",
              "      <th>car</th>\n",
              "      <td>0.249021</td>\n",
              "      <td>0.461513</td>\n",
              "    </tr>\n",
              "    <tr>\n",
              "      <th>parked</th>\n",
              "      <td>-0.408057</td>\n",
              "      <td>0.224724</td>\n",
              "    </tr>\n",
              "    <tr>\n",
              "      <th>built</th>\n",
              "      <td>-0.206836</td>\n",
              "      <td>0.041369</td>\n",
              "    </tr>\n",
              "    <tr>\n",
              "      <th>bag</th>\n",
              "      <td>0.424931</td>\n",
              "      <td>-0.223109</td>\n",
              "    </tr>\n",
              "    <tr>\n",
              "      <th>ate</th>\n",
              "      <td>0.225915</td>\n",
              "      <td>-0.339804</td>\n",
              "    </tr>\n",
              "    <tr>\n",
              "      <th>sit</th>\n",
              "      <td>-0.177424</td>\n",
              "      <td>0.469925</td>\n",
              "    </tr>\n",
              "    <tr>\n",
              "      <th>cheetah</th>\n",
              "      <td>-0.079127</td>\n",
              "      <td>0.015908</td>\n",
              "    </tr>\n",
              "    <tr>\n",
              "      <th>since</th>\n",
              "      <td>-0.207236</td>\n",
              "      <td>-0.384126</td>\n",
              "    </tr>\n",
              "    <tr>\n",
              "      <th>close</th>\n",
              "      <td>-0.075275</td>\n",
              "      <td>0.123525</td>\n",
              "    </tr>\n",
              "    <tr>\n",
              "      <th>meanandering</th>\n",
              "      <td>-0.044401</td>\n",
              "      <td>0.276683</td>\n",
              "    </tr>\n",
              "    <tr>\n",
              "      <th>wandering</th>\n",
              "      <td>-0.137284</td>\n",
              "      <td>0.112771</td>\n",
              "    </tr>\n",
              "    <tr>\n",
              "      <th>fun</th>\n",
              "      <td>0.271460</td>\n",
              "      <td>0.416540</td>\n",
              "    </tr>\n",
              "    <tr>\n",
              "      <th>wandered</th>\n",
              "      <td>-0.072549</td>\n",
              "      <td>-0.460507</td>\n",
              "    </tr>\n",
              "    <tr>\n",
              "      <th>place</th>\n",
              "      <td>0.218531</td>\n",
              "      <td>0.028655</td>\n",
              "    </tr>\n",
              "    <tr>\n",
              "      <th>breakfast</th>\n",
              "      <td>0.371399</td>\n",
              "      <td>-0.040853</td>\n",
              "    </tr>\n",
              "    <tr>\n",
              "      <th>said</th>\n",
              "      <td>-0.131668</td>\n",
              "      <td>-0.437716</td>\n",
              "    </tr>\n",
              "  </tbody>\n",
              "</table>\n",
              "</div>"
            ],
            "text/plain": [
              "                    d0        d1\n",
              "patio        -0.026548  0.011474\n",
              "garage        0.254888  0.450171\n",
              "dinner       -0.465057 -0.355795\n",
              "lion          0.322857  0.448189\n",
              "old          -0.250914 -0.188650\n",
              "macdonald     0.369047 -0.076846\n",
              "house        -0.226831  0.327703\n",
              "lunch        -0.243008 -0.090801\n",
              "jump          0.143574  0.049691\n",
              "attached     -0.414787 -0.472955\n",
              "good          0.365431  0.253374\n",
              "short         0.337832  0.038106\n",
              "walk          0.317540 -0.170268\n",
              "enjoyable    -0.047320  0.288435\n",
              "run          -0.376557 -0.196983\n",
              "orange       -0.375989 -0.046632\n",
              "near          0.476782 -0.365992\n",
              "cheetohs     -0.117025 -0.097685\n",
              "wanted        0.404098 -0.296785\n",
              "cars          0.002258 -0.237687\n",
              "looking      -0.480857  0.249733\n",
              "outside      -0.438022 -0.219585\n",
              "eating       -0.001667 -0.015021\n",
              "jumper       -0.383062  0.480737\n",
              "car           0.249021  0.461513\n",
              "parked       -0.408057  0.224724\n",
              "built        -0.206836  0.041369\n",
              "bag           0.424931 -0.223109\n",
              "ate           0.225915 -0.339804\n",
              "sit          -0.177424  0.469925\n",
              "cheetah      -0.079127  0.015908\n",
              "since        -0.207236 -0.384126\n",
              "close        -0.075275  0.123525\n",
              "meanandering -0.044401  0.276683\n",
              "wandering    -0.137284  0.112771\n",
              "fun           0.271460  0.416540\n",
              "wandered     -0.072549 -0.460507\n",
              "place         0.218531  0.028655\n",
              "breakfast     0.371399 -0.040853\n",
              "said         -0.131668 -0.437716"
            ]
          },
          "execution_count": 32,
          "metadata": {},
          "output_type": "execute_result"
        }
      ],
      "source": [
        "embedding = pd.DataFrame(columns=['d0', 'd1'])\n",
        "for token in word2vec.wv.index_to_key:\n",
        "    embedding.loc[token] = word2vec.wv.get_vector(token)\n",
        "embedding\n"
      ]
    },
    {
      "cell_type": "code",
      "execution_count": null,
      "id": "703d701b",
      "metadata": {
        "id": "703d701b",
        "outputId": "0947101a-97ab-4ed5-a311-9485a8e68356"
      },
      "outputs": [
        {
          "data": {
            "image/png": "[encoded data removed]",
            "text/plain": [
              "<Figure size 1000x500 with 1 Axes>"
            ]
          },
          "metadata": {},
          "output_type": "display_data"
        }
      ],
      "source": [
        "sns.lmplot(data=embedding, x='d0', y='d1', fit_reg=False, aspect=2)\n",
        "for token, vector in embedding.iterrows():\n",
        "    plt.gca().text(vector['d0']+.02, vector['d1']+.03, str(token), size=14)\n",
        "plt.tight_layout()\n"
      ]
    },
    {
      "cell_type": "code",
      "execution_count": null,
      "id": "b9ab2dfb",
      "metadata": {
        "id": "b9ab2dfb"
      },
      "outputs": [],
      "source": [
        "# End skip-gram\n"
      ]
    },
    {
      "cell_type": "code",
      "execution_count": null,
      "id": "3a952b44",
      "metadata": {
        "id": "3a952b44"
      },
      "outputs": [],
      "source": [
        "\n"
      ]
    },
    {
      "cell_type": "code",
      "execution_count": null,
      "id": "b1a0ba4e",
      "metadata": {
        "id": "b1a0ba4e"
      },
      "outputs": [],
      "source": [
        "# Start tb 2-gram & 3-gram\n"
      ]
    },
    {
      "cell_type": "code",
      "execution_count": null,
      "id": "cdacc664",
      "metadata": {
        "id": "cdacc664",
        "outputId": "7927447e-45f2-49a9-91a1-aeeb817bd26c"
      },
      "outputs": [
        {
          "data": {
            "text/plain": [
              "['this is',\n",
              " 'is an',\n",
              " 'an example',\n",
              " 'example sentence',\n",
              " 'sentence for',\n",
              " 'for the',\n",
              " 'the 2-gram',\n",
              " '2-gram words',\n",
              " 'words']"
            ]
          },
          "execution_count": 36,
          "metadata": {},
          "output_type": "execute_result"
        }
      ],
      "source": [
        "def split_Text_To_TWO_gram(string):\n",
        "\n",
        "    words = string.split()\n",
        "\n",
        "    TWO_gram_words = [' '.join(words[i: i + 2]) for i in range(0, len(words), 1)]\n",
        "\n",
        "    return TWO_gram_words\n",
        "\n",
        "split_Text_To_TWO_gram('this is an example sentence for the 2-gram words')\n"
      ]
    },
    {
      "cell_type": "code",
      "execution_count": null,
      "id": "b5299fc0",
      "metadata": {
        "id": "b5299fc0",
        "outputId": "78f75c00-81d5-4d6c-946a-620a6cc5ae48"
      },
      "outputs": [
        {
          "data": {
            "text/plain": [
              "['this is an',\n",
              " 'is an example',\n",
              " 'an example sentence',\n",
              " 'example sentence for',\n",
              " 'sentence for the',\n",
              " 'for the 3-gram',\n",
              " 'the 3-gram words',\n",
              " '3-gram words',\n",
              " 'words']"
            ]
          },
          "execution_count": 37,
          "metadata": {},
          "output_type": "execute_result"
        }
      ],
      "source": [
        "def split_Text_To_THREE_gram(string):\n",
        "\n",
        "    words = string.split()\n",
        "\n",
        "    THREE_gram_words = [' '.join(words[i: i + 3]) for i in range(0, len(words), 1)]\n",
        "\n",
        "    return THREE_gram_words\n",
        "\n",
        "split_Text_To_THREE_gram('this is an example sentence for the 3-gram words')\n"
      ]
    },
    {
      "cell_type": "code",
      "execution_count": null,
      "id": "706c0e98",
      "metadata": {
        "id": "706c0e98"
      },
      "outputs": [],
      "source": [
        "# END 121220 #\n",
        "# END 070423 #\n"
      ]
    }
  ],
  "metadata": {
    "kernelspec": {
      "display_name": "Python 3 (ipykernel)",
      "language": "python",
      "name": "python3"
    },
    "language_info": {
      "codemirror_mode": {
        "name": "ipython",
        "version": 3
      },
      "file_extension": ".py",
      "mimetype": "text/x-python",
      "name": "python",
      "nbconvert_exporter": "python",
      "pygments_lexer": "ipython3",
      "version": "3.10.9"
    },
    "colab": {
      "provenance": []
    }
  },
  "nbformat": 4,
  "nbformat_minor": 5
}